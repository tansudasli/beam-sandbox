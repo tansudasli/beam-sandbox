{
 "cells": [
  {
   "cell_type": "code",
   "execution_count": 20,
   "metadata": {
    "collapsed": true,
    "pycharm": {
     "is_executing": false
    }
   },
   "outputs": [],
   "source": [
    "import logging\n",
    "import apache_beam as beam\n",
    "\n",
    "from apache_beam.options.pipeline_options import PipelineOptions\n"
   ]
  },
  {
   "cell_type": "code",
   "execution_count": 21,
   "outputs": [],
   "source": [
    "# logging\n",
    "root = logging.getLogger()\n",
    "root.setLevel(logging.INFO)\n"
   ],
   "metadata": {
    "collapsed": false,
    "pycharm": {
     "name": "#%%\n",
     "is_executing": false
    }
   }
  },
  {
   "cell_type": "code",
   "execution_count": 22,
   "outputs": [
    {
     "name": "stderr",
     "text": [
      "INFO:root:Missing pipeline option (runner). Executing pipeline using the default runner: DirectRunner.\n",
      "INFO:oauth2client.client:Timeout attempting to reach GCE metadata service.\n",
      "WARNING:root:Unable to find default credentials to use: The Application Default Credentials are not available. They are available if running in Google Compute Engine. Otherwise, the environment variable GOOGLE_APPLICATION_CREDENTIALS must be defined pointing to a file defining the credentials. See https://developers.google.com/accounts/docs/application-default-credentials for more information.\nConnecting anonymously.\n",
      "INFO:oauth2client.client:Timeout attempting to reach GCE metadata service.\n",
      "WARNING:root:Unable to find default credentials to use: The Application Default Credentials are not available. They are available if running in Google Compute Engine. Otherwise, the environment variable GOOGLE_APPLICATION_CREDENTIALS must be defined pointing to a file defining the credentials. See https://developers.google.com/accounts/docs/application-default-credentials for more information.\nConnecting anonymously.\n"
     ],
     "output_type": "stream"
    }
   ],
   "source": [
    "# create a pipeline, read data from csv\n",
    "pipeline_options = beam.Pipeline(options=PipelineOptions())\n",
    "\n",
    "# PCollection format is = id, customer-type, product-type, price\n",
    "transactions = (pipeline_options\n",
    "                | \"Read Transaction CSV\"\n",
    "                >> beam.io.ReadFromText(\"gs://spark-dataset-1/datasets/sales/sales_transactions.csv\")\n",
    "                # | \"Raw transactions\"\n",
    "                # >> beam.CombineGlobally(beam.combiners.CountCombineFn())\n",
    "                # | \"Raw transactions count\"\n",
    "                # >> beam.ParDo(lambda c: logging.info(\"Total lines %s\", str(c)))\n",
    "                )"
   ],
   "metadata": {
    "collapsed": false,
    "pycharm": {
     "name": "#%%\n",
     "is_executing": false
    }
   }
  },
  {
   "cell_type": "code",
   "execution_count": 23,
   "outputs": [],
   "source": [
    "# extract product-type and price\n",
    "class ExtractProductTypePrice(beam.DoFn):\n",
    "\n",
    "    def process(self, element, *args, **kwargs):\n",
    "        line = element.split(',')\n",
    "        return [(line[2], float(line[3]))]\n",
    "\n",
    "\n",
    "# PCollection format now = product-type, price\n",
    "productType_price = (transactions\n",
    "                     | \"Extracting product type and price\"\n",
    "                     >> beam.ParDo(ExtractProductTypePrice())\n",
    "                     | \"Product Type and Price\"\n",
    "                     >> beam.CombineGlobally(beam.combiners.CountCombineFn())\n",
    "                     | \"Product Type and Price count\"\n",
    "                     >> beam.ParDo(lambda c: logging.info(\"Total lines %s\", str(c)))            \n",
    "                     )\n"
   ],
   "metadata": {
    "collapsed": false,
    "pycharm": {
     "name": "#%%\n",
     "is_executing": false
    }
   }
  },
  {
   "cell_type": "code",
   "execution_count": 24,
   "outputs": [
    {
     "name": "stderr",
     "text": [
      "INFO:root:==================== <function annotate_downstream_side_inputs at 0x11921a9b0> ====================\n",
      "INFO:root:==================== <function fix_side_input_pcoll_coders at 0x11921aed8> ====================\n",
      "INFO:root:==================== <function lift_combiners at 0x11921d320> ====================\n",
      "INFO:root:==================== <function expand_gbk at 0x11921a938> ====================\n",
      "INFO:root:==================== <function sink_flattens at 0x11921a7d0> ====================\n",
      "INFO:root:==================== <function greedily_fuse at 0x11921af50> ====================\n",
      "INFO:root:==================== <function impulse_to_input at 0x11921d398> ====================\n",
      "INFO:root:==================== <function inject_timer_pcollections at 0x11921acf8> ====================\n",
      "INFO:root:==================== <function sort_stages at 0x11921a8c0> ====================\n",
      "INFO:root:Running ((ref_AppliedPTransform_Read Transaction CSV/Read_3)+((ref_AppliedPTransform_Extracting product type and price_4)+((ref_AppliedPTransform_Product Type and Price/KeyWithVoid_6)+(Product Type and Price/CombinePerKey/Precombine))))+(Product Type and Price/CombinePerKey/Group/Write)\n",
      "INFO:oauth2client.client:Timeout attempting to reach GCE metadata service.\n",
      "WARNING:root:Unable to find default credentials to use: The Application Default Credentials are not available. They are available if running in Google Compute Engine. Otherwise, the environment variable GOOGLE_APPLICATION_CREDENTIALS must be defined pointing to a file defining the credentials. See https://developers.google.com/accounts/docs/application-default-credentials for more information.\nConnecting anonymously.\n",
      "INFO:oauth2client.client:Timeout attempting to reach GCE metadata service.\n",
      "WARNING:root:Unable to find default credentials to use: The Application Default Credentials are not available. They are available if running in Google Compute Engine. Otherwise, the environment variable GOOGLE_APPLICATION_CREDENTIALS must be defined pointing to a file defining the credentials. See https://developers.google.com/accounts/docs/application-default-credentials for more information.\nConnecting anonymously.\n",
      "INFO:oauth2client.client:Timeout attempting to reach GCE metadata service.\n",
      "WARNING:root:Unable to find default credentials to use: The Application Default Credentials are not available. They are available if running in Google Compute Engine. Otherwise, the environment variable GOOGLE_APPLICATION_CREDENTIALS must be defined pointing to a file defining the credentials. See https://developers.google.com/accounts/docs/application-default-credentials for more information.\nConnecting anonymously.\n",
      "INFO:root:Running ((Product Type and Price/CombinePerKey/Group/Read)+(Product Type and Price/CombinePerKey/Merge))+(((Product Type and Price/CombinePerKey/ExtractOutputs)+(ref_AppliedPTransform_Product Type and Price/UnKey_14))+(ref_PCollection_PCollection_8/Write))\n",
      "INFO:root:Running ((ref_AppliedPTransform_Product Type and Price/DoOnce/Read_16)+(ref_AppliedPTransform_Product Type and Price/InjectDefault_17))+(ref_AppliedPTransform_Product Type and Price count_18)\n",
      "INFO:root:Total lines 100\n"
     ],
     "output_type": "stream"
    },
    {
     "data": {
      "text/plain": "'DONE'"
     },
     "metadata": {},
     "output_type": "execute_result",
     "execution_count": 24
    }
   ],
   "source": [
    "# run\n",
    "result = pipeline_options.run()\n",
    "\n",
    "result.wait_until_finish()"
   ],
   "metadata": {
    "collapsed": false,
    "pycharm": {
     "name": "#%%\n",
     "is_executing": false
    }
   }
  },
  {
   "cell_type": "code",
   "execution_count": null,
   "outputs": [],
   "source": [
    "\n"
   ],
   "metadata": {
    "collapsed": false,
    "pycharm": {
     "name": "#%%\n"
    }
   }
  }
 ],
 "metadata": {
  "language_info": {
   "codemirror_mode": {
    "name": "ipython",
    "version": 2
   },
   "file_extension": ".py",
   "mimetype": "text/x-python",
   "name": "python",
   "nbconvert_exporter": "python",
   "pygments_lexer": "ipython2",
   "version": "2.7.6"
  },
  "kernelspec": {
   "name": "python2",
   "language": "python",
   "display_name": "Python 2"
  },
  "pycharm": {
   "stem_cell": {
    "cell_type": "raw",
    "source": [],
    "metadata": {
     "collapsed": false
    }
   }
  }
 },
 "nbformat": 4,
 "nbformat_minor": 0
}