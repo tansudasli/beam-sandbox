{
 "cells": [
  {
   "cell_type": "code",
   "execution_count": 25,
   "metadata": {
    "pycharm": {
     "is_executing": false
    }
   },
   "outputs": [],
   "source": [
    "import logging\n",
    "import apache_beam as beam\n",
    "\n",
    "from apache_beam.options.pipeline_options import PipelineOptions"
   ]
  },
  {
   "cell_type": "code",
   "execution_count": 26,
   "metadata": {
    "pycharm": {
     "is_executing": false,
     "name": "#%%\n"
    }
   },
   "outputs": [],
   "source": [
    "# set logging level\n",
    "root = logging.getLogger()\n",
    "root.setLevel(logging.INFO)\n"
   ]
  },
  {
   "cell_type": "code",
   "execution_count": 27,
   "metadata": {
    "pycharm": {
     "is_executing": false,
     "name": "#%%\n"
    }
   },
   "outputs": [
    {
     "data": {
      "text/plain": [
       "<PCollection[create sample data/Read.None] at 0x1103383d0>"
      ]
     },
     "execution_count": 27,
     "metadata": {},
     "output_type": "execute_result"
    }
   ],
   "source": [
    "p = beam.Pipeline(options=PipelineOptions(runner=\"DirectRunner\"))\n",
    "\n",
    "# source data\n",
    "lines = (p | \"create sample data\" >> beam.Create([\"Another episode of Star Wars\", \n",
    "                                                  \"A long time ago in a galaxy far far away\"]))"
   ]
  },
  {
   "cell_type": "code",
   "execution_count": 28,
   "metadata": {
    "pycharm": {
     "is_executing": false,
     "name": "#%%\n"
    }
   },
   "outputs": [],
   "source": [
    "line_count = (lines | \"count lines\" >> beam.CombineGlobally(beam.combiners.CountCombineFn()))"
   ]
  },
  {
   "cell_type": "code",
   "execution_count": 29,
   "metadata": {
    "pycharm": {
     "is_executing": false,
     "name": "#%%\n"
    }
   },
   "outputs": [
    {
     "data": {
      "text/plain": [
       "<PCollection[printing to logd.None] at 0x11061b4d0>"
      ]
     },
     "execution_count": 29,
     "metadata": {},
     "output_type": "execute_result"
    }
   ],
   "source": [
    "(line_count | \"printing to logd\" >> beam.ParDo(lambda (c): logging.info(\"***\\ntotal lines: %s \\n***\", c)))"
   ]
  },
  {
   "cell_type": "code",
   "execution_count": 30,
   "metadata": {
    "pycharm": {
     "is_executing": false,
     "name": "#%%\n"
    }
   },
   "outputs": [
    {
     "name": "stderr",
     "output_type": "stream",
     "text": [
      "INFO:root:==================== <function annotate_downstream_side_inputs at 0x1101d8320> ====================\n",
      "INFO:root:==================== <function fix_side_input_pcoll_coders at 0x1101d8500> ====================\n",
      "INFO:root:==================== <function lift_combiners at 0x1101d8578> ====================\n",
      "INFO:root:==================== <function expand_gbk at 0x1101d8f50> ====================\n",
      "INFO:root:==================== <function sink_flattens at 0x1101d82a8> ====================\n",
      "INFO:root:==================== <function greedily_fuse at 0x1101d8398> ====================\n",
      "INFO:root:==================== <function impulse_to_input at 0x1101d8488> ====================\n",
      "INFO:root:==================== <function inject_timer_pcollections at 0x1101d8848> ====================\n",
      "INFO:root:==================== <function sort_stages at 0x1101d8410> ====================\n",
      "INFO:root:Running ((ref_AppliedPTransform_create sample data/Read_3)+((ref_AppliedPTransform_count lines/KeyWithVoid_5)+(count lines/CombinePerKey/Precombine)))+(count lines/CombinePerKey/Group/Write)\n",
      "INFO:root:Running ((count lines/CombinePerKey/Group/Read)+(count lines/CombinePerKey/Merge))+((count lines/CombinePerKey/ExtractOutputs)+((ref_AppliedPTransform_count lines/UnKey_13)+(ref_PCollection_PCollection_7/Write)))\n",
      "INFO:root:Running (ref_AppliedPTransform_count lines/DoOnce/Read_15)+((ref_AppliedPTransform_count lines/InjectDefault_16)+(ref_AppliedPTransform_printing to logd_17))\n",
      "INFO:root:***\n",
      "total lines: 2 \n",
      "***\n"
     ]
    },
    {
     "data": {
      "text/plain": [
       "'DONE'"
      ]
     },
     "execution_count": 30,
     "metadata": {},
     "output_type": "execute_result"
    }
   ],
   "source": [
    "result = p.run()\n",
    "\n",
    "result.wait_until_finish()"
   ]
  }
 ],
 "metadata": {
  "kernelspec": {
   "display_name": "Python 2",
   "language": "python",
   "name": "python2"
  },
  "language_info": {
   "codemirror_mode": {
    "name": "ipython",
    "version": 2
   },
   "file_extension": ".py",
   "mimetype": "text/x-python",
   "name": "python",
   "nbconvert_exporter": "python",
   "pygments_lexer": "ipython2",
   "version": "2.7.15"
  },
  "pycharm": {
   "stem_cell": {
    "cell_type": "raw",
    "metadata": {
     "collapsed": false
    },
    "source": []
   }
  }
 },
 "nbformat": 4,
 "nbformat_minor": 1
}
