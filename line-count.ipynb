{
 "cells": [
  {
   "cell_type": "code",
   "execution_count": 1,
   "metadata": {
    "pycharm": {
     "is_executing": false
    }
   },
   "outputs": [],
   "source": [
    "import logging\n",
    "import apache_beam as beam\n",
    "\n",
    "from apache_beam.options.pipeline_options import PipelineOptions"
   ]
  },
  {
   "cell_type": "code",
   "execution_count": 2,
   "metadata": {
    "pycharm": {
     "is_executing": false,
     "name": "#%%\n"
    }
   },
   "outputs": [],
   "source": [
    "# set logging level\n",
    "root = logging.getLogger()\n",
    "root.setLevel(logging.INFO)\n"
   ]
  },
  {
   "cell_type": "markdown",
   "metadata": {
    "pycharm": {
     "name": "#%% md\n"
    }
   },
   "source": [
    "create a pipeline\n"
   ]
  },
  {
   "cell_type": "code",
   "execution_count": 3,
   "metadata": {
    "pycharm": {
     "is_executing": false,
     "name": "#%%\n"
    }
   },
   "outputs": [
    {
     "data": {
      "text/plain": [
       "<PCollection[create sample data/Read.None] at 0x11299d610>"
      ]
     },
     "execution_count": 3,
     "metadata": {},
     "output_type": "execute_result"
    }
   ],
   "source": [
    "p = beam.Pipeline(options=PipelineOptions(runner=\"DirectRunner\"))\n",
    "\n",
    "# source data\n",
    "lines = (p | \"create sample data\" >> beam.Create([\"Another episode of Star Wars\", \n",
    "                                                  \"A long time ago in a galaxy far far away\"]))\n",
    "lines\n"
   ]
  },
  {
   "cell_type": "code",
   "execution_count": 4,
   "metadata": {
    "pycharm": {
     "is_executing": false,
     "name": "#%%\n"
    }
   },
   "outputs": [],
   "source": [
    "\n",
    "line_count = (lines | \"count lines\" >> beam.CombineGlobally(beam.combiners.CountCombineFn()))\n"
   ]
  },
  {
   "cell_type": "code",
   "execution_count": 8,
   "metadata": {
    "pycharm": {
     "is_executing": false,
     "name": "#%%\n"
    }
   },
   "outputs": [
    {
     "data": {
      "text/plain": [
       "<PCollection[printing to logd.None] at 0x112f5c110>"
      ]
     },
     "execution_count": 8,
     "metadata": {},
     "output_type": "execute_result"
    }
   ],
   "source": [
    "(line_count | \"printing to log\" >> beam.ParDo(lambda (c): logging.info(\"\\n***\\ntotal lines: %s \\n***\", c)))\n"
   ]
  },
  {
   "cell_type": "code",
   "execution_count": 9,
   "metadata": {
    "pycharm": {
     "is_executing": false,
     "name": "#%%\n"
    }
   },
   "outputs": [
    {
     "name": "stderr",
     "output_type": "stream",
     "text": [
      "INFO:root:==================== <function annotate_downstream_side_inputs at 0x1131029b0> ====================\n",
      "INFO:root:==================== <function fix_side_input_pcoll_coders at 0x1131027d0> ====================\n",
      "INFO:root:==================== <function lift_combiners at 0x113102b18> ====================\n",
      "INFO:root:==================== <function expand_gbk at 0x113102aa0> ====================\n",
      "INFO:root:==================== <function sink_flattens at 0x113102c80> ====================\n",
      "INFO:root:==================== <function greedily_fuse at 0x113102b90> ====================\n",
      "INFO:root:==================== <function impulse_to_input at 0x113102938> ====================\n",
      "INFO:root:==================== <function inject_timer_pcollections at 0x1131028c0> ====================\n",
      "INFO:root:==================== <function sort_stages at 0x113102c08> ====================\n",
      "INFO:root:Running ((ref_AppliedPTransform_create sample data/Read_3)+((ref_AppliedPTransform_count lines/KeyWithVoid_5)+(count lines/CombinePerKey/Precombine)))+(count lines/CombinePerKey/Group/Write)\n",
      "INFO:root:Running ((count lines/CombinePerKey/Group/Read)+(count lines/CombinePerKey/Merge))+((count lines/CombinePerKey/ExtractOutputs)+((ref_AppliedPTransform_count lines/UnKey_13)+(ref_PCollection_PCollection_7/Write)))\n",
      "INFO:root:Running (ref_AppliedPTransform_count lines/DoOnce/Read_15)+(((ref_AppliedPTransform_count lines/InjectDefault_16)+(ref_AppliedPTransform_printing to log_17))+(ref_AppliedPTransform_printing to logd_18))\n",
      "INFO:root:\n",
      "***\n",
      "total lines: 2 \n",
      "***\n",
      "INFO:root:***\n",
      "total lines: 2 \n",
      "***\n"
     ]
    },
    {
     "data": {
      "text/plain": [
       "'DONE'"
      ]
     },
     "execution_count": 9,
     "metadata": {},
     "output_type": "execute_result"
    }
   ],
   "source": [
    "result = p.run()\n",
    "\n",
    "result.wait_until_finish()"
   ]
  },
  {
   "cell_type": "code",
   "execution_count": null,
   "metadata": {},
   "outputs": [],
   "source": []
  }
 ],
 "metadata": {
  "kernelspec": {
   "display_name": "Python 2",
   "language": "python",
   "name": "python2"
  },
  "language_info": {
   "codemirror_mode": {
    "name": "ipython",
    "version": 2
   },
   "file_extension": ".py",
   "mimetype": "text/x-python",
   "name": "python",
   "nbconvert_exporter": "python",
   "pygments_lexer": "ipython2",
   "version": "2.7.15"
  },
  "pycharm": {
   "stem_cell": {
    "cell_type": "raw",
    "metadata": {
     "collapsed": false
    },
    "source": []
   }
  }
 },
 "nbformat": 4,
 "nbformat_minor": 1
}
