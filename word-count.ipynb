{
 "cells": [
  {
   "cell_type": "code",
   "execution_count": 1,
   "metadata": {
    "collapsed": true,
    "pycharm": {
     "is_executing": false
    }
   },
   "outputs": [],
   "source": [
    "import logging\n",
    "import apache_beam as beam\n",
    "\n",
    "from apache_beam.options.pipeline_options import PipelineOptions\n"
   ]
  },
  {
   "cell_type": "code",
   "execution_count": 3,
   "outputs": [],
   "source": [
    "# set logging level\n",
    "root = logging.getLogger()\n",
    "root.setLevel(logging.INFO)\n"
   ],
   "metadata": {
    "collapsed": false,
    "pycharm": {
     "name": "#%%\n",
     "is_executing": false
    }
   }
  },
  {
   "cell_type": "markdown",
   "source": [
    "create a pipeline\n"
   ],
   "metadata": {
    "collapsed": false,
    "pycharm": {
     "name": "#%% md\n"
    }
   }
  },
  {
   "cell_type": "code",
   "execution_count": 12,
   "outputs": [
    {
     "data": {
      "text/plain": "<PCollection[create sample data/Read.None] at 0x10fbeed10>"
     },
     "metadata": {},
     "output_type": "execute_result",
     "execution_count": 12
    }
   ],
   "source": [
    "p = beam.Pipeline(options=PipelineOptions(runner=\"DirectRunner\"))\n",
    "\n",
    "# source data\n",
    "lines = (p | \"create sample data\" >> beam.Create([\"Another episode of Star Wars\", \"A long time ago in a galaxy far far away\"]))\n",
    "lines\n"
   ],
   "metadata": {
    "collapsed": false,
    "pycharm": {
     "name": "#%%\n",
     "is_executing": false
    }
   }
  },
  {
   "cell_type": "code",
   "execution_count": 13,
   "outputs": [
    {
     "data": {
      "text/plain": "<PCollection[count lines/InjectDefault.None] at 0x10fc5cd50>"
     },
     "metadata": {},
     "output_type": "execute_result",
     "execution_count": 13
    }
   ],
   "source": [
    "\n",
    "line_count = (lines | \"count lines\" >> beam.CombineGlobally(beam.combiners.CountCombineFn()))\n"
   ],
   "metadata": {
    "collapsed": false,
    "pycharm": {
     "name": "#%%\n",
     "is_executing": false
    }
   }
  },
  {
   "cell_type": "code",
   "execution_count": 16,
   "outputs": [
    {
     "data": {
      "text/plain": "<PCollection[printing to logd.None] at 0x10fdd2290>"
     },
     "metadata": {},
     "output_type": "execute_result",
     "execution_count": 16
    }
   ],
   "source": [
    "(line_count | \"printing to logd\" >> beam.ParDo(lambda (c): logging.info(\"***\\ntotal lines: %s \\n***\", c)))\n"
   ],
   "metadata": {
    "collapsed": false,
    "pycharm": {
     "name": "#%%\n",
     "is_executing": false
    }
   }
  },
  {
   "cell_type": "code",
   "execution_count": 18,
   "outputs": [
    {
     "name": "stderr",
     "text": [
      "INFO:root:==================== <function annotate_downstream_side_inputs at 0x1101ea320> ====================\n",
      "INFO:root:==================== <function fix_side_input_pcoll_coders at 0x1101eaa28> ====================\n",
      "INFO:root:==================== <function lift_combiners at 0x1101ea938> ====================\n",
      "INFO:root:==================== <function expand_gbk at 0x1101ea7d0> ====================\n",
      "INFO:root:==================== <function sink_flattens at 0x1101eae60> ====================\n",
      "INFO:root:==================== <function greedily_fuse at 0x1101eaaa0> ====================\n",
      "INFO:root:==================== <function impulse_to_input at 0x1101ea500> ====================\n",
      "INFO:root:==================== <function inject_timer_pcollections at 0x1101eab18> ====================\n",
      "INFO:root:==================== <function sort_stages at 0x1101ea9b0> ====================\n",
      "INFO:root:Running ((ref_AppliedPTransform_create sample data/Read_3)+((ref_AppliedPTransform_count lines/KeyWithVoid_5)+(count lines/CombinePerKey/Precombine)))+(count lines/CombinePerKey/Group/Write)\n",
      "INFO:root:Running ((count lines/CombinePerKey/Group/Read)+(count lines/CombinePerKey/Merge))+((count lines/CombinePerKey/ExtractOutputs)+((ref_AppliedPTransform_count lines/UnKey_13)+(ref_PCollection_PCollection_7/Write)))\n",
      "INFO:root:Running (ref_AppliedPTransform_count lines/DoOnce/Read_15)+(((ref_AppliedPTransform_count lines/InjectDefault_16)+(ref_AppliedPTransform_printing to log_17))+(ref_AppliedPTransform_printing to logd_18))\n",
      "INFO:root:***\ntotal lines: 2\n",
      "INFO:root:***\ntotal lines: 2 \n***\n"
     ],
     "output_type": "stream"
    },
    {
     "data": {
      "text/plain": "'DONE'"
     },
     "metadata": {},
     "output_type": "execute_result",
     "execution_count": 18
    }
   ],
   "source": [
    "result = p.run()\n",
    "\n",
    "result.wait_until_finish()"
   ],
   "metadata": {
    "collapsed": false,
    "pycharm": {
     "name": "#%%\n",
     "is_executing": false
    }
   }
  }
 ],
 "metadata": {
  "language_info": {
   "codemirror_mode": {
    "name": "ipython",
    "version": 2
   },
   "file_extension": ".py",
   "mimetype": "text/x-python",
   "name": "python",
   "nbconvert_exporter": "python",
   "pygments_lexer": "ipython2",
   "version": "2.7.6"
  },
  "kernelspec": {
   "name": "python2",
   "language": "python",
   "display_name": "Python 2"
  },
  "pycharm": {
   "stem_cell": {
    "cell_type": "raw",
    "source": [],
    "metadata": {
     "collapsed": false
    }
   }
  }
 },
 "nbformat": 4,
 "nbformat_minor": 0
}